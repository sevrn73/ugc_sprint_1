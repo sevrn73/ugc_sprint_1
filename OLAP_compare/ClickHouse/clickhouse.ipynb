{
 "cells": [
  {
   "cell_type": "code",
   "execution_count": 20,
   "metadata": {},
   "outputs": [
    {
     "name": "stderr",
     "output_type": "stream",
     "text": [
      "clickhouse is up-to-date\n"
     ]
    }
   ],
   "source": [
    "!docker-compose up -d"
   ]
  },
  {
   "cell_type": "code",
   "execution_count": 21,
   "metadata": {},
   "outputs": [],
   "source": [
    "import time\n",
    "import statistics\n",
    "import uuid\n",
    "from random import randint\n",
    "\n",
    "from clickhouse_driver import Client\n",
    "\n",
    "client = Client(host=\"localhost\") "
   ]
  },
  {
   "cell_type": "code",
   "execution_count": 22,
   "metadata": {},
   "outputs": [
    {
     "data": {
      "text/plain": [
       "[]"
      ]
     },
     "execution_count": 22,
     "metadata": {},
     "output_type": "execute_result"
    }
   ],
   "source": [
    "client.execute(\"CREATE DATABASE IF NOT EXISTS compare\")"
   ]
  },
  {
   "cell_type": "code",
   "execution_count": 23,
   "metadata": {},
   "outputs": [
    {
     "data": {
      "text/plain": [
       "[]"
      ]
     },
     "execution_count": 23,
     "metadata": {},
     "output_type": "execute_result"
    }
   ],
   "source": [
    "client.execute(\"DROP TABLE IF EXISTS compare.views\")"
   ]
  },
  {
   "cell_type": "code",
   "execution_count": 24,
   "metadata": {},
   "outputs": [
    {
     "data": {
      "text/plain": [
       "[]"
      ]
     },
     "execution_count": 24,
     "metadata": {},
     "output_type": "execute_result"
    }
   ],
   "source": [
    "create_sql = \"\"\"\n",
    "CREATE TABLE IF NOT EXISTS compare.views (\n",
    "    id String,\n",
    "    user_id String,\n",
    "    movie_id String,\n",
    "    timestamp_movie Int64,\n",
    "    time Int64\n",
    ") Engine=MergeTree() ORDER BY id\n",
    "\"\"\"\n",
    "client.execute(create_sql)"
   ]
  },
  {
   "cell_type": "code",
   "execution_count": 25,
   "metadata": {},
   "outputs": [],
   "source": [
    "def generate_random_data(n_rows: int, iteration: int):\n",
    "    data = []\n",
    "    for _ in range(iteration*n_rows):\n",
    "        timestamp_movie = randint(1, 100)\n",
    "        time = randint(1000000000, 10000000000)\n",
    "        data.append((str(uuid.uuid4()), str(uuid.uuid4()), str(uuid.uuid4()), timestamp_movie, time))\n",
    "\n",
    "    yield data"
   ]
  },
  {
   "cell_type": "code",
   "execution_count": 26,
   "metadata": {},
   "outputs": [],
   "source": [
    "class profiler():\n",
    "    def __init__(self):\n",
    "        self.start = time.time()\n",
    "        self.all_durations = []\n",
    "        \n",
    "    def setup_start_time(self):\n",
    "        self.start = time.time()\n",
    "\n",
    "    def checkpoint(self):\n",
    "        end_time = time.time()\n",
    "        self.all_durations.append(end_time - self.start)\n",
    "        self.start = end_time\n",
    "\n",
    "    def __enter__(self):\n",
    "        return self\n",
    "\n",
    "    def __exit__(self, type, value, traceback):\n",
    "        print(f\"Median - {statistics.median(self.all_durations)}\")\n",
    "        avg = sum(self.all_durations) / len(self.all_durations)\n",
    "        print(f\"Average - {avg}\")\n",
    "        print(f\"Summary - {sum(self.all_durations)}\")"
   ]
  },
  {
   "cell_type": "code",
   "execution_count": 27,
   "metadata": {},
   "outputs": [
    {
     "name": "stdout",
     "output_type": "stream",
     "text": [
      "Median - 1.7571446895599365\n",
      "Average - 1.7571446895599365\n",
      "Summary - 1.7571446895599365\n"
     ]
    }
   ],
   "source": [
    "# Тестирование вставки по 500 записей\n",
    "with profiler() as p:\n",
    "    for data in generate_random_data(500, 2000):\n",
    "        p.setup_start_time()\n",
    "        client.execute(\n",
    "            \"INSERT INTO compare.views (id, user_id, movie_id, timestamp_movie, time) VALUES\",\n",
    "            data,\n",
    "        )\n",
    "        p.checkpoint()"
   ]
  },
  {
   "cell_type": "code",
   "execution_count": 28,
   "metadata": {},
   "outputs": [
    {
     "name": "stdout",
     "output_type": "stream",
     "text": [
      "Median - 0.008560419082641602\n",
      "Average - 0.008560419082641602\n",
      "Summary - 0.008560419082641602\n"
     ]
    }
   ],
   "source": [
    "# Тестирование одной вставки\n",
    "with profiler() as p:\n",
    "    for data in generate_random_data(1, 2000):\n",
    "        p.setup_start_time()\n",
    "        client.execute(\n",
    "            \"INSERT INTO compare.views (id, user_id, movie_id, timestamp_movie, time) VALUES\",\n",
    "            data,\n",
    "        )\n",
    "        p.checkpoint()"
   ]
  },
  {
   "cell_type": "code",
   "execution_count": 29,
   "metadata": {},
   "outputs": [],
   "source": [
    "uuids = [str(u[0]) for u in client.execute(\"SELECT user_id FROM compare.views LIMIT 100\")]"
   ]
  },
  {
   "cell_type": "code",
   "execution_count": 30,
   "metadata": {},
   "outputs": [
    {
     "name": "stdout",
     "output_type": "stream",
     "text": [
      "Median - 0.008590340614318848\n",
      "Average - 0.010925867557525636\n",
      "Summary - 1.0925867557525635\n"
     ]
    }
   ],
   "source": [
    "# Тестирование получения данных\n",
    "with profiler() as p:\n",
    "    for u in uuids:\n",
    "        p.setup_start_time()\n",
    "        client.execute(f\"SELECT * FROM compare.views where user_id='{u}'\")\n",
    "        p.checkpoint()"
   ]
  },
  {
   "cell_type": "code",
   "execution_count": 31,
   "metadata": {},
   "outputs": [
    {
     "name": "stderr",
     "output_type": "stream",
     "text": [
      "Stopping clickhouse ... \n",
      "\n",
      "Stopping clickhouse ... done\n",
      "\n",
      "Removing clickhouse ... \n",
      "\n",
      "Removing clickhouse ... done\n",
      "\n",
      "Removing network clickhouse_default\n"
     ]
    }
   ],
   "source": [
    "!docker-compose down"
   ]
  }
 ],
 "metadata": {
  "kernelspec": {
   "display_name": "Python 3",
   "language": "python",
   "name": "python3"
  },
  "language_info": {
   "codemirror_mode": {
    "name": "ipython",
    "version": 3
   },
   "file_extension": ".py",
   "mimetype": "text/x-python",
   "name": "python",
   "nbconvert_exporter": "python",
   "pygments_lexer": "ipython3",
   "version": "3.8.10"
  },
  "orig_nbformat": 4,
  "vscode": {
   "interpreter": {
    "hash": "570feb405e2e27c949193ac68f46852414290d515b0ba6e5d90d076ed2284471"
   }
  }
 },
 "nbformat": 4,
 "nbformat_minor": 2
}
